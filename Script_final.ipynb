{
 "cells": [
  {
   "cell_type": "markdown",
   "metadata": {},
   "source": [
    "## Librerias"
   ]
  },
  {
   "cell_type": "code",
   "execution_count": 1,
   "metadata": {},
   "outputs": [],
   "source": [
    "import pandas as pd\n",
    "import requests \n",
    "from bs4 import BeautifulSoup\n",
    "import time\n",
    "import matplotlib.pyplot as plt\n",
    "import investpy\n",
    "import re\n",
    "from fake_useragent import UserAgent\n",
    "from datetime import datetime, timezone"
   ]
  },
  {
   "cell_type": "markdown",
   "metadata": {},
   "source": [
    "## Descarga Morningstar"
   ]
  },
  {
   "cell_type": "code",
   "execution_count": 2,
   "metadata": {},
   "outputs": [],
   "source": [
    "headers = {\n",
    "    'authority': 'tools.morningstar.co.uk',\n",
    "    'accept': 'application/json, text/plain, */*',\n",
    "    'accept-language': 'es-ES,es;q=0.9,en;q=0.8',\n",
    "    'origin': 'https://www.morningstar.es',\n",
    "    'sec-ch-ua': '\"Not_A Brand\";v=\"8\", \"Chromium\";v=\"120\", \"Google Chrome\";v=\"120\"',\n",
    "    'sec-ch-ua-mobile': '?0',\n",
    "    'sec-ch-ua-platform': '\"Windows\"',\n",
    "    'sec-fetch-dest': 'empty',\n",
    "    'sec-fetch-mode': 'cors',\n",
    "    'sec-fetch-site': 'cross-site',\n",
    "    'user-agent': str(UserAgent().random),\n",
    "}\n",
    "\n",
    "Id = ['FOESP$$24ALL']\n",
    "categoria = ['Fondos']\n",
    "securityDataPoints = '''SecId|Name|PriceCurrency|TenforeId|LegalName|ClosePrice|Yield_M12|\n",
    "                      CategoryName|Medalist_RatingNumber|StarRatingM255|SustainabilityRank|\n",
    "                      ReturnD1|ReturnW1|ReturnM1|ReturnM3|ReturnM6|ReturnM0|ReturnM12|ReturnM36|\n",
    "                      ReturnM60|ReturnM120|FeeLevel|ManagerTenure|MaxDeferredLoad|InitialPurchase|\n",
    "                      FundTNAV|EquityStyleBox|BondStyleBox|AverageMarketCapital|AverageCreditQualityCode|\n",
    "                      EffectiveDuration|MorningstarRiskM255|AlphaM36|BetaM36|R2M36|StandardDeviationM36|\n",
    "                      SharpeM36|TrackRecordExtension'''\n",
    "\n",
    "df = pd.DataFrame()\n",
    "\n",
    "params = {\n",
    "    'page': '1',\n",
    "    'pageSize': '100000',\n",
    "    'sortOrder': 'LegalName asc',\n",
    "    'outputType': 'json',\n",
    "    'version': '1',\n",
    "    'languageId': 'es-ES',\n",
    "    'currencyId': 'EUR',\n",
    "    'universeIds': 'FOESP$$ALL',\n",
    "    'securityDataPoints': 'SecId|Name|PriceCurrency|TenforeId|LegalName|ClosePrice|Yield_M12|CategoryName|Medalist_RatingNumber|StarRatingM255|SustainabilityRank|ReturnD1|ReturnW1|ReturnM1|ReturnM3|ReturnM6|ReturnM0|ReturnM12|ReturnM36|ReturnM60|ReturnM120|FeeLevel|ManagerTenure|MaxDeferredLoad|InitialPurchase|FundTNAV|EquityStyleBox|BondStyleBox|AverageMarketCapital|AverageCreditQualityCode|EffectiveDuration|MorningstarRiskM255|AlphaM36|BetaM36|R2M36|StandardDeviationM36|SharpeM36|TrackRecordExtension',\n",
    "    'filters': '',\n",
    "    'term': '',\n",
    "    'subUniverseId': '',\n",
    "}\n",
    "\n",
    "response = pd.DataFrame(requests.get(\n",
    "    'https://tools.morningstar.co.uk/api/rest.svc/klr5zyak8x/security/screener',\n",
    "    params=params,\n",
    "    headers=headers,\n",
    ").json()['rows'])\n",
    "\n",
    "df = pd.concat([df, response])\n",
    "\n",
    "df['ISIN'] = df['TenforeId'].str.split('.', expand=True)[2]\n",
    "\n",
    "# Filtrar el DataFrame para incluir solo las filas con 'ES' en la columna 'Tenforeld'\n",
    "df_español = df[df['ISIN'].str.startswith('ES', na=False)]"
   ]
  },
  {
   "cell_type": "code",
   "execution_count": 3,
   "metadata": {},
   "outputs": [],
   "source": [
    "df_español['ISIN'].to_csv(r\"C:\\Users\\Carmen (TFG)\\Documents\\Bases de datos\\Base_ISIN.csv\", index = False)"
   ]
  }
 ],
 "metadata": {
  "kernelspec": {
   "display_name": "Python 3",
   "language": "python",
   "name": "python3"
  },
  "language_info": {
   "codemirror_mode": {
    "name": "ipython",
    "version": 3
   },
   "file_extension": ".py",
   "mimetype": "text/x-python",
   "name": "python",
   "nbconvert_exporter": "python",
   "pygments_lexer": "ipython3",
   "version": "3.12.1"
  }
 },
 "nbformat": 4,
 "nbformat_minor": 2
}
